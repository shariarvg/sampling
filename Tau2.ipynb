{
 "cells": [
  {
   "cell_type": "code",
   "execution_count": 175,
   "metadata": {},
   "outputs": [],
   "source": [
    "import scipy\n",
    "from scipy.integrate import quad\n",
    "import numpy as np\n",
    "from numpy.linalg import inv, eig, qr, det\n",
    "import math\n",
    "import random"
   ]
  },
  {
   "cell_type": "code",
   "execution_count": 176,
   "metadata": {},
   "outputs": [],
   "source": [
    "n = 100\n",
    "p = 10\n",
    "\n",
    "X = np.random.rand(n,p)\n",
    "\n",
    "for count in range(n):\n",
    "    X[count][0] = 1\n",
    "\n",
    "L = [[0 for a in range(p)] for b in range(p)]\n",
    "L[0][0]=1\n",
    "\n",
    "for i in range(1,p):\n",
    "    L[i][i] = 1 #random.random()\n",
    "    \n",
    "#L = np.matrix('1 0; 0 0.5')\n",
    "    \n",
    "#B = np.random.rand(p)\n",
    "B = [0.01 for count in range(p)]\n",
    "#t_0 = 0.3\n",
    "\n",
    "\n",
    "w = 5\n",
    "y = X @ B + np.random.rand(n)/1000\n",
    "#y = np.random.rand(n)\n",
    "\n",
    "#y = np.array([1,0,2])"
   ]
  },
  {
   "cell_type": "code",
   "execution_count": 177,
   "metadata": {},
   "outputs": [
    {
     "data": {
      "text/plain": [
       "array([0.05968555, 0.06240797, 0.05202304, 0.04718104, 0.04714416,\n",
       "       0.05091643, 0.0554435 , 0.052679  , 0.07246018, 0.06618836,\n",
       "       0.05385512, 0.06353831, 0.05632124, 0.05068523, 0.06831618,\n",
       "       0.06762757, 0.05584384, 0.06822474, 0.04433685, 0.04532299,\n",
       "       0.05518923, 0.04913636, 0.05785292, 0.0621753 , 0.05447363,\n",
       "       0.06432427, 0.05593956, 0.04761378, 0.04865419, 0.05568933,\n",
       "       0.0489937 , 0.06236559, 0.05956649, 0.06572907, 0.05066848,\n",
       "       0.05838716, 0.06891232, 0.06432404, 0.06324005, 0.04793586,\n",
       "       0.0719068 , 0.05418318, 0.04369757, 0.04967037, 0.06318802,\n",
       "       0.04781279, 0.05243666, 0.05825885, 0.04275905, 0.04124661,\n",
       "       0.05686155, 0.06273761, 0.05077532, 0.06704576, 0.04203784,\n",
       "       0.05838078, 0.06113516, 0.06687807, 0.07626062, 0.07148453,\n",
       "       0.05003593, 0.06046615, 0.04639858, 0.04586091, 0.0651943 ,\n",
       "       0.05732468, 0.04672555, 0.04923812, 0.05547325, 0.05710372,\n",
       "       0.05632915, 0.04367569, 0.05514607, 0.05604738, 0.05039756,\n",
       "       0.04483943, 0.04842889, 0.04832965, 0.04945103, 0.05539167,\n",
       "       0.06471146, 0.04388138, 0.04714167, 0.04757833, 0.05987701,\n",
       "       0.0530922 , 0.07093467, 0.07062987, 0.05825223, 0.06526748,\n",
       "       0.05584589, 0.05525499, 0.05221782, 0.03900035, 0.03842211,\n",
       "       0.05758732, 0.04163592, 0.05792364, 0.04253556, 0.06361499])"
      ]
     },
     "execution_count": 177,
     "metadata": {},
     "output_type": "execute_result"
    }
   ],
   "source": [
    "y"
   ]
  },
  {
   "cell_type": "code",
   "execution_count": 178,
   "metadata": {},
   "outputs": [
    {
     "data": {
      "text/plain": [
       "array([0.05887875, 0.06203199, 0.05154488, 0.04661541, 0.04675463,\n",
       "       0.05045969, 0.05455714, 0.05233623, 0.07213624, 0.06601444,\n",
       "       0.05300953, 0.06259124, 0.05581804, 0.05064236, 0.06746773,\n",
       "       0.06729151, 0.0550452 , 0.06799825, 0.04400959, 0.0444193 ,\n",
       "       0.05507545, 0.04873473, 0.05745422, 0.06137852, 0.0540804 ,\n",
       "       0.06397865, 0.05568567, 0.04747344, 0.04860707, 0.05510815,\n",
       "       0.04853445, 0.06232405, 0.05881487, 0.06570984, 0.05059385,\n",
       "       0.05754601, 0.06808334, 0.06413479, 0.06278714, 0.04738453,\n",
       "       0.07117668, 0.05360824, 0.04310406, 0.04950925, 0.06252165,\n",
       "       0.04705119, 0.05234225, 0.05783004, 0.04188464, 0.040949  ,\n",
       "       0.05661772, 0.06204881, 0.05006684, 0.06618596, 0.04119212,\n",
       "       0.05789601, 0.06068799, 0.06597721, 0.07530663, 0.07081397,\n",
       "       0.0493752 , 0.06019292, 0.04625335, 0.04535334, 0.06497789,\n",
       "       0.05731486, 0.04651375, 0.04875405, 0.05530586, 0.05690623,\n",
       "       0.05550296, 0.04338191, 0.05450275, 0.05521043, 0.0502771 ,\n",
       "       0.04425089, 0.04839548, 0.04756325, 0.04874834, 0.05495191,\n",
       "       0.06438768, 0.04373916, 0.04644107, 0.04727507, 0.05905158,\n",
       "       0.05225851, 0.07081376, 0.07036604, 0.05728612, 0.06441863,\n",
       "       0.05535828, 0.0548045 , 0.05136451, 0.03822941, 0.03779983,\n",
       "       0.05718038, 0.04116838, 0.05775755, 0.04246167, 0.06280508])"
      ]
     },
     "execution_count": 178,
     "metadata": {},
     "output_type": "execute_result"
    }
   ],
   "source": [
    "X @ B"
   ]
  },
  {
   "cell_type": "code",
   "execution_count": 179,
   "metadata": {},
   "outputs": [],
   "source": [
    "## QR Decomposition of X\n",
    "\n",
    "Q, R = qr(X)\n",
    "#q = (t_0 ** 2) * (Q @ inv(R@R @ L @ L @ R.T) @ Q.T)"
   ]
  },
  {
   "cell_type": "code",
   "execution_count": 180,
   "metadata": {},
   "outputs": [],
   "source": [
    "## Eigendecomposition of R(L^2)R^T\n",
    "\n",
    "D_arr, V = eig(R @ L @ L @ R.T)\n",
    "D = np.diag(D_arr) # Converting eigenvalues into eigenvalue matrix\n",
    "d = 1 # Product of eigenvalues\n",
    "for ele in D_arr:\n",
    "    d = d*ele"
   ]
  },
  {
   "cell_type": "code",
   "execution_count": 181,
   "metadata": {},
   "outputs": [],
   "source": [
    "## Storing important values\n",
    "yTy = y.T @ y\n",
    "yTQQTy = y.T @ Q @ Q.T @ y\n",
    "yTQV = y.T @ Q @ V\n",
    "VTQTy = V.T @ Q.T @ y"
   ]
  },
  {
   "cell_type": "code",
   "execution_count": 182,
   "metadata": {},
   "outputs": [
    {
     "name": "stdout",
     "output_type": "stream",
     "text": [
      "610705.0987206143\n",
      "610705.0987206168\n"
     ]
    }
   ],
   "source": [
    "tau_0 = 0.5\n",
    "print(det(np.identity(n)+(tau_0**2)*X@L@L@X.T))\n",
    "d = 1\n",
    "for d_i in D_arr:\n",
    "        d *= (1+(tau_0**2)*d_i)\n",
    "print(d)"
   ]
  },
  {
   "cell_type": "code",
   "execution_count": 183,
   "metadata": {},
   "outputs": [],
   "source": [
    "def probability(tau):\n",
    "    #print(tau)\n",
    "    det = 1\n",
    "    for d_i in D_arr:\n",
    "        det *= (1+(tau**2)*d_i)\n",
    "    #print(det)\n",
    "    #print((yTQV @ inv(D+(1/(tau**2))*np.identity(p)) @ VTQTy)/(tau**2))\n",
    "    mult = yTy - yTQQTy + (yTQV @ inv(D+(1/(tau**2))*np.identity(p)) @ VTQTy)/(tau**2)\n",
    "    #mult = yTy/(tau**2) - (yTV @ inv(D+(1/(tau**2))*np.identity(D.shape[0])) @ VTy)/(tau**4)\n",
    "    #print(mult)\n",
    "    #print((w/2 + mult/2)**(-0.5*(n+w)))\n",
    "    #print(\"-------------------\")\n",
    "    #print(mult/2)\n",
    "    return det**(-0.5) * ((w/2 + mult/2)**(-0.5*(n+w)))*(1/((tau**(-1))*(1+tau**(-2))))\n"
   ]
  },
  {
   "cell_type": "code",
   "execution_count": 184,
   "metadata": {},
   "outputs": [],
   "source": [
    "def unop_probability(tau):\n",
    "    det = 1\n",
    "    for d_i in D_arr:\n",
    "        det *= (1+(tau**2)*d_i)\n",
    "        \n",
    "    #mat = np.identity(n) - (tau**2) * Q@inv(inv(R@L@L@R.T)+(tau**2)*np.identity(p))@Q.T\n",
    "    mat = inv(np.identity(n)+(tau**2)*(X@L@L@X.T))\n",
    "    return det**(-0.5) * ((w/2 + (y.T @ mat @ y)/2)**(-0.5*(n+w)))*(1/((tau**(-1))*(1+tau**(-2))))"
   ]
  },
  {
   "cell_type": "code",
   "execution_count": 185,
   "metadata": {},
   "outputs": [],
   "source": [
    "def g():\n",
    "    res = 0.1\n",
    "    k = 4\n",
    "    prob = lambda x: probability(x)\n",
    "    val = quad(prob, 0.000001, k)[0]\n",
    "    #print(val)\n",
    "    while res == 0 or (abs((val-res)/res) > NORM_THRESHOLD):\n",
    "        k = k + NORM_STEP\n",
    "        res = val\n",
    "        val = quad(prob, 0.000001, k)[0]\n",
    "        #print(t_0+k)\n",
    "        #print(val)\n",
    "        #print('-----')\n",
    "    #print(\"DONE\")\n",
    "    \n",
    "    return res, k"
   ]
  },
  {
   "cell_type": "code",
   "execution_count": 186,
   "metadata": {},
   "outputs": [],
   "source": [
    "def F_inv(x):\n",
    "    bound = 0.01\n",
    "    prob = lambda x: probability(x)\n",
    "    scal = g()[0]\n",
    "    val = quad(prob, 0.000001, bound)[0]/scal\n",
    "    while (abs(val - x) > OUTPUT_THRESHOLD):\n",
    "        bound = bound * x/val\n",
    "        val = quad(prob, 0, bound)[0]/scal\n",
    "    \n",
    "    return bound"
   ]
  },
  {
   "cell_type": "code",
   "execution_count": 187,
   "metadata": {
    "scrolled": true
   },
   "outputs": [
    {
     "data": {
      "text/plain": [
       "<matplotlib.collections.PathCollection at 0x127261588>"
      ]
     },
     "execution_count": 187,
     "metadata": {},
     "output_type": "execute_result"
    },
    {
     "data": {
      "image/png": "[encoded data removed]",
      "text/plain": [
       "<Figure size 432x288 with 1 Axes>"
      ]
     },
     "metadata": {
      "needs_background": "light"
     },
     "output_type": "display_data"
    }
   ],
   "source": [
    "g_val = 1#g()[0]\n",
    "\n",
    "import matplotlib.pyplot as plt\n",
    "a = [(i+0.01)/1000.0 for i in range(5,1000)]\n",
    "b = [probability(j)*(10**(64)) for j in a]\n",
    "plt.scatter(a,b)"
   ]
  },
  {
   "cell_type": "code",
   "execution_count": 188,
   "metadata": {},
   "outputs": [
    {
     "data": {
      "text/plain": [
       "1.5450756710507891e-25"
      ]
     },
     "execution_count": 188,
     "metadata": {},
     "output_type": "execute_result"
    }
   ],
   "source": [
    "probability(0.09)"
   ]
  },
  {
   "cell_type": "code",
   "execution_count": 189,
   "metadata": {},
   "outputs": [
    {
     "data": {
      "text/plain": [
       "<matplotlib.collections.PathCollection at 0x12732c3c8>"
      ]
     },
     "execution_count": 189,
     "metadata": {},
     "output_type": "execute_result"
    },
    {
     "data": {
      "image/png": "[encoded data removed]",
      "text/plain": [
       "<Figure size 432x288 with 1 Axes>"
      ]
     },
     "metadata": {
      "needs_background": "light"
     },
     "output_type": "display_data"
    }
   ],
   "source": [
    "g_val = 1#g()[0]\n",
    "\n",
    "import matplotlib.pyplot as plt\n",
    "a = [(i+0.01)/1000.0 for i in range(5,100)]\n",
    "b = [unop_probability(j)*(10**(35)) for j in a]\n",
    "plt.scatter(a,b)"
   ]
  }
 ],
 "metadata": {
  "kernelspec": {
   "display_name": "Python 3",
   "language": "python",
   "name": "python3"
  },
  "language_info": {
   "codemirror_mode": {
    "name": "ipython",
    "version": 3
   },
   "file_extension": ".py",
   "mimetype": "text/x-python",
   "name": "python",
   "nbconvert_exporter": "python",
   "pygments_lexer": "ipython3",
   "version": "3.7.3"
  }
 },
 "nbformat": 4,
 "nbformat_minor": 2
}
