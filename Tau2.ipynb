{
 "cells": [
  {
   "cell_type": "code",
   "execution_count": 52,
   "metadata": {},
   "outputs": [],
   "source": [
    "import scipy\n",
    "from scipy.integrate import quad\n",
    "import numpy as np\n",
    "from numpy.linalg import inv, eig, qr, det\n",
    "import math\n",
    "import random"
   ]
  },
  {
   "cell_type": "code",
   "execution_count": 53,
   "metadata": {},
   "outputs": [],
   "source": [
    "n = 100\n",
    "p = 10\n",
    "\n",
    "X = np.random.rand(n,p)\n",
    "\n",
    "for count in range(n):\n",
    "    X[count][0] = 1\n",
    "\n",
    "L = [[0 for a in range(p)] for b in range(p)]\n",
    "L[0][0]=1\n",
    "\n",
    "for i in range(1,p):\n",
    "    L[i][i] = 1 #random.random()\n",
    "    \n",
    "#L = np.matrix('1 0; 0 0.5')\n",
    "    \n",
    "#B = np.random.rand(p)\n",
    "B = [0.01 for count in range(p)]\n",
    "#t_0 = 0.3\n",
    "\n",
    "\n",
    "w = 5\n",
    "y = X @ B + np.random.rand(n)/1000\n",
    "#y = np.random.rand(n)\n",
    "\n",
    "#y = np.array([1,0,2])"
   ]
  },
  {
   "cell_type": "code",
   "execution_count": 91,
   "metadata": {},
   "outputs": [],
   "source": [
    "## Configuration for normalization and inverse CDF sampling\n",
    "integration_config = {\"NORM_STEP\":0.01, \"NORM_THRESHOLD\":0.000001, \"initial\":0.001}"
   ]
  },
  {
   "cell_type": "code",
   "execution_count": 54,
   "metadata": {},
   "outputs": [],
   "source": [
    "cdfMap = {}"
   ]
  },
  {
   "cell_type": "code",
   "execution_count": 55,
   "metadata": {},
   "outputs": [],
   "source": [
    "## QR Decomposition of X\n",
    "\n",
    "Q, R = qr(X)\n",
    "#q = (t_0 ** 2) * (Q @ inv(R@R @ L @ L @ R.T) @ Q.T)"
   ]
  },
  {
   "cell_type": "code",
   "execution_count": 56,
   "metadata": {},
   "outputs": [],
   "source": [
    "## Eigendecomposition of R(L^2)R^T\n",
    "\n",
    "D_arr, V = eig(R @ L @ L @ R.T)\n",
    "D = np.diag(D_arr) # Converting eigenvalues into eigenvalue matrix\n",
    "d = 1 # Product of eigenvalues\n",
    "for ele in D_arr:\n",
    "    d = d*ele"
   ]
  },
  {
   "cell_type": "code",
   "execution_count": 57,
   "metadata": {},
   "outputs": [],
   "source": [
    "## Storing important values\n",
    "yTy = y.T @ y\n",
    "yTQ = y.T @ Q\n",
    "yTQQTy = yTQ @ yTQ.T\n",
    "yTQV = y.T @ Q @ V\n",
    "VTQTy = yTQV.T"
   ]
  },
  {
   "cell_type": "code",
   "execution_count": 58,
   "metadata": {},
   "outputs": [],
   "source": [
    "## Optimized probability function\n",
    "\n",
    "def probability(tau):\n",
    "    ## Determinant\n",
    "    det = 1\n",
    "    for d_i in D_arr:\n",
    "        det *= (1+(tau**2)*d_i)\n",
    "\n",
    "    ##Difficult multiplication term\n",
    "    mult = yTy - yTQQTy + (yTQV @ np.diag(1/(np.diag(D)+tau**(-2))) @ VTQTy)/(tau**2)\n",
    "\n",
    "    return det**(-0.5) * ((w/2 + mult/2)**(-0.5*(n+w)))*(1/((tau**(-1))*(1+tau**(-2))))\n"
   ]
  },
  {
   "cell_type": "code",
   "execution_count": 59,
   "metadata": {},
   "outputs": [],
   "source": [
    "## Unoptimized probability\n",
    "\n",
    "def unop_probability(tau):\n",
    "    ## Determinant\n",
    "    det = 1\n",
    "    for d_i in D_arr:\n",
    "        det *= (1+(tau**2)*d_i)\n",
    "        \n",
    "    ## REALLY difficult multiplication term\n",
    "    mat = inv(np.identity(n)+(tau**2)*(X@L@L@X.T))\n",
    "    return det**(-0.5) * ((w/2 + (y.T @ mat @ y)/2)**(-0.5*(n+w)))*(1/((tau**(-1))*(1+tau**(-2))))"
   ]
  },
  {
   "cell_type": "code",
   "execution_count": 97,
   "metadata": {},
   "outputs": [],
   "source": [
    "## Approximating the integral of the probability density function over all positive reals\n",
    "## Default values NORM_STEP = 0.1, NORM_THRESHOLD = 0.0001, initial = 0.001\n",
    "\n",
    "def g(config):\n",
    "    NORM_STEP = config[\"NORM_STEP\"]\n",
    "    NORM_THRESHOLD = config[\"NORM_THRESHOLD\"]\n",
    "    initial = config[\"initial\"]\n",
    "    \n",
    "    ## Initialize lower and upper vals\n",
    "    lower = initial\n",
    "    upper = lower + NORM_STEP\n",
    "    prob = lambda x: probability(x)\n",
    "    val = (prob(lower) + prob(upper))/2 * NORM_STEP\n",
    "    \n",
    "    cdfMap[(lower+upper)/2] = val\n",
    "    \n",
    "    ## Res is ultimately returned\n",
    "    res = 0\n",
    "    \n",
    "    ## While there's a lot of change to res\n",
    "    while res == 0 or (abs((val-res)/res) > NORM_THRESHOLD):\n",
    "        res = val\n",
    "        lower = lower + NORM_STEP\n",
    "        upper = upper + NORM_STEP\n",
    "        val += (prob(lower) + prob(upper))/2 * NORM_STEP\n",
    "        cdfMap[val] = (lower+upper)/2\n",
    "        #print(lower)\n",
    "        #print(upper)\n",
    "        #print(round((lower+upper)/2,5))\n",
    "        #print(\"-----------------------------\")\n",
    "    return res, upper\n",
    "    \n",
    "    "
   ]
  },
  {
   "cell_type": "code",
   "execution_count": 93,
   "metadata": {
    "scrolled": true
   },
   "outputs": [
    {
     "data": {
      "text/plain": [
       "(2.0139426924363208e-25, 1.9710000000000014)"
      ]
     },
     "execution_count": 93,
     "metadata": {},
     "output_type": "execute_result"
    }
   ],
   "source": [
    "g(integration_config)"
   ]
  },
  {
   "cell_type": "code",
   "execution_count": 83,
   "metadata": {},
   "outputs": [],
   "source": [
    "## Inverse CDF of x\n",
    "\n",
    "def F_inv(x, config, c):\n",
    "    NORM_STEP = config[\"NORM_STEP\"]\n",
    "    NORM_THRESHOLD = config[\"NORM_THRESHOLD\"]\n",
    "    initial = config[\"initial\"]\n",
    "    find = NORM_STEP*int(x/NORM_STEP) + NORM_STEP/2.0 + initial\n",
    "    return cdfMap[find]/c\n",
    "    \n",
    "    '''\n",
    "    if x > 1:\n",
    "        return math.inf\n",
    "    \n",
    "    ## Initializing lower and upper bounds\n",
    "    lower = initial\n",
    "    upper = initial + NORM_STEP\n",
    "    \n",
    "    ## Calling normalizing constant\n",
    "    scal = g(NORM_STEP, NORM_THRESHOLD, initial)[0]\n",
    "    prob = lambda x: probability(x)\n",
    "    res = (prob(lower) + prob(upper))/2 * NORM_STEP\n",
    "    \n",
    "    ## While we're less than the normalizing constant times x, increment the result\n",
    "    while res < x*scal:\n",
    "        lower = lower + NORM_STEP\n",
    "        upper = upper + NORM_STEP\n",
    "        res += (prob(lower) + prob(upper))/2 * NORM_STEP\n",
    "        \n",
    "    return upper\n",
    "    '''\n",
    "    "
   ]
  },
  {
   "cell_type": "code",
   "execution_count": 96,
   "metadata": {
    "scrolled": true
   },
   "outputs": [
    {
     "data": {
      "text/plain": [
       "0.786"
      ]
     },
     "execution_count": 96,
     "metadata": {},
     "output_type": "execute_result"
    }
   ],
   "source": [
    "config = integration_config\n",
    "NORM_STEP = config[\"NORM_STEP\"]\n",
    "NORM_THRESHOLD = config[\"NORM_THRESHOLD\"]\n",
    "initial = config[\"initial\"]\n",
    "x = 0.7812241\n",
    "NORM_STEP*int(x/NORM_STEP) + NORM_STEP/2.0 + initial"
   ]
  },
  {
   "cell_type": "code",
   "execution_count": 71,
   "metadata": {},
   "outputs": [
    {
     "name": "stdout",
     "output_type": "stream",
     "text": [
      "[0.051000000000000004, 0.15100000000000002, 0.251, 0.35100000000000003, 0.451, 0.5509999999999999, 0.651, 0.7509999999999999, 0.851, 0.9509999999999998, 1.051, 1.151, 1.2510000000000001, 1.3510000000000002, 1.4510000000000003, 1.5510000000000004]\n"
     ]
    }
   ],
   "source": [
    "NORM_STEP = integration_config[\"NORM_STEP\"]\n",
    "NORM_THRESHOLD = integration_config[\"NORM_THRESHOLD\"]\n",
    "initial = integration_config[\"initial\"]\n",
    "NORM_STEP*int(0.5/NORM_STEP) + NORM_STEP/2.0\n",
    "print(list(cdfMap.keys()))"
   ]
  },
  {
   "cell_type": "code",
   "execution_count": null,
   "metadata": {
    "scrolled": true
   },
   "outputs": [],
   "source": [
    "## Plotting optimized probability\n",
    "\n",
    "g_val = g()[0]\n",
    "\n",
    "import matplotlib.pyplot as plt\n",
    "a = [(i+0.01)/1000.0 for i in range(5,1000)]\n",
    "b = [probability(j)/g_val for j in a]\n",
    "plt.scatter(a,b)\n",
    "plt.show()"
   ]
  },
  {
   "cell_type": "code",
   "execution_count": null,
   "metadata": {},
   "outputs": [],
   "source": [
    "probability(0.09)"
   ]
  },
  {
   "cell_type": "code",
   "execution_count": null,
   "metadata": {},
   "outputs": [],
   "source": [
    "## Plotting unoptimized probability\n",
    "\n",
    "g_val = g()[0]\n",
    "\n",
    "import matplotlib.pyplot as plt\n",
    "a = [(i+0.01)/1000.0 for i in range(5,1000)]\n",
    "b = [unop_probability(j)*(10**(35)) for j in a]\n",
    "plt.scatter(a,b)"
   ]
  },
  {
   "cell_type": "code",
   "execution_count": null,
   "metadata": {},
   "outputs": [],
   "source": [
    "x = np.random.rand(1000)\n",
    "y = [F_inv(i) for i in x]\n",
    "plt.hist(y)\n",
    "plt.show()"
   ]
  }
 ],
 "metadata": {
  "kernelspec": {
   "display_name": "Python 3",
   "language": "python",
   "name": "python3"
  },
  "language_info": {
   "codemirror_mode": {
    "name": "ipython",
    "version": 3
   },
   "file_extension": ".py",
   "mimetype": "text/x-python",
   "name": "python",
   "nbconvert_exporter": "python",
   "pygments_lexer": "ipython3",
   "version": "3.7.3"
  }
 },
 "nbformat": 4,
 "nbformat_minor": 2
}
