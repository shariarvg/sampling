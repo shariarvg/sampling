{
 "cells": [
  {
   "cell_type": "code",
   "execution_count": 52,
   "metadata": {},
   "outputs": [],
   "source": [
    "import scipy\n",
    "from scipy.integrate import quad\n",
    "import numpy as np\n",
    "from numpy.linalg import inv, eig, qr, det\n",
    "import math\n",
    "import random"
   ]
  },
  {
   "cell_type": "code",
   "execution_count": 53,
   "metadata": {},
   "outputs": [],
   "source": [
    "n = 100\n",
    "p = 10\n",
    "\n",
    "X = np.random.rand(n,p)\n",
    "\n",
    "for count in range(n):\n",
    "    X[count][0] = 1\n",
    "\n",
    "L = [[0 for a in range(p)] for b in range(p)]\n",
    "L[0][0]=1\n",
    "\n",
    "for i in range(1,p):\n",
    "    L[i][i] = 1 #random.random()\n",
    "    \n",
    "#L = np.matrix('1 0; 0 0.5')\n",
    "    \n",
    "#B = np.random.rand(p)\n",
    "B = [0.01 for count in range(p)]\n",
    "#t_0 = 0.3\n",
    "\n",
    "\n",
    "w = 5\n",
    "y = X @ B + np.random.rand(n)/1000\n",
    "#y = np.random.rand(n)\n",
    "\n",
    "#y = np.array([1,0,2])"
   ]
  },
  {
   "cell_type": "code",
   "execution_count": null,
   "metadata": {},
   "outputs": [],
   "source": [
    "## Configuration for normalization and inverse CDF sampling\n",
    "integration_config = {\"NORM_STEP\":0.1, \"NORM_THRESHOLD\":0.0001, \"initial\":0.001}"
   ]
  },
  {
   "cell_type": "code",
   "execution_count": 54,
   "metadata": {},
   "outputs": [],
   "source": [
    "cdfMap = {}"
   ]
  },
  {
   "cell_type": "code",
   "execution_count": 55,
   "metadata": {},
   "outputs": [],
   "source": [
    "## QR Decomposition of X\n",
    "\n",
    "Q, R = qr(X)\n",
    "#q = (t_0 ** 2) * (Q @ inv(R@R @ L @ L @ R.T) @ Q.T)"
   ]
  },
  {
   "cell_type": "code",
   "execution_count": 56,
   "metadata": {},
   "outputs": [],
   "source": [
    "## Eigendecomposition of R(L^2)R^T\n",
    "\n",
    "D_arr, V = eig(R @ L @ L @ R.T)\n",
    "D = np.diag(D_arr) # Converting eigenvalues into eigenvalue matrix\n",
    "d = 1 # Product of eigenvalues\n",
    "for ele in D_arr:\n",
    "    d = d*ele"
   ]
  },
  {
   "cell_type": "code",
   "execution_count": 57,
   "metadata": {},
   "outputs": [],
   "source": [
    "## Storing important values\n",
    "yTy = y.T @ y\n",
    "yTQ = y.T @ Q\n",
    "yTQQTy = yTQ @ yTQ.T\n",
    "yTQV = y.T @ Q @ V\n",
    "VTQTy = yTQV.T"
   ]
  },
  {
   "cell_type": "code",
   "execution_count": 58,
   "metadata": {},
   "outputs": [],
   "source": [
    "## Optimized probability function\n",
    "\n",
    "def probability(tau):\n",
    "    ## Determinant\n",
    "    det = 1\n",
    "    for d_i in D_arr:\n",
    "        det *= (1+(tau**2)*d_i)\n",
    "\n",
    "    ##Difficult multiplication term\n",
    "    mult = yTy - yTQQTy + (yTQV @ np.diag(1/(np.diag(D)+tau**(-2))) @ VTQTy)/(tau**2)\n",
    "\n",
    "    return det**(-0.5) * ((w/2 + mult/2)**(-0.5*(n+w)))*(1/((tau**(-1))*(1+tau**(-2))))\n"
   ]
  },
  {
   "cell_type": "code",
   "execution_count": 59,
   "metadata": {},
   "outputs": [],
   "source": [
    "## Unoptimized probability\n",
    "\n",
    "def unop_probability(tau):\n",
    "    ## Determinant\n",
    "    det = 1\n",
    "    for d_i in D_arr:\n",
    "        det *= (1+(tau**2)*d_i)\n",
    "        \n",
    "    ## REALLY difficult multiplication term\n",
    "    mat = inv(np.identity(n)+(tau**2)*(X@L@L@X.T))\n",
    "    return det**(-0.5) * ((w/2 + (y.T @ mat @ y)/2)**(-0.5*(n+w)))*(1/((tau**(-1))*(1+tau**(-2))))"
   ]
  },
  {
   "cell_type": "code",
   "execution_count": 60,
   "metadata": {},
   "outputs": [],
   "source": [
    "## Approximating the integral of the probability density function over all positive reals\n",
    "## Default values NORM_STEP = 0.1, NORM_THRESHOLD = 0.0001, initial = 0.001\n",
    "\n",
    "def g(config):\n",
    "    NORM_STEP = config[NORM_STEP]\n",
    "    NORM_THRESHOLD = config[NORM_THRESHOLD]\n",
    "    initial = config[initial]\n",
    "    \n",
    "    ## Initialize lower and upper vals\n",
    "    lower = initial\n",
    "    upper = lower + NORM_STEP\n",
    "    prob = lambda x: probability(x)\n",
    "    val = (prob(lower) + prob(upper))/2 * NORM_STEP\n",
    "    \n",
    "    cdfMap[(lower+upper)/2] = val\n",
    "    \n",
    "    ## Res is ultimately returned\n",
    "    res = 0\n",
    "    \n",
    "    ## While there's a lot of change to res\n",
    "    while res == 0 or (abs((val-res)/res) > NORM_THRESHOLD):\n",
    "        res = val\n",
    "        lower = lower + NORM_STEP\n",
    "        upper = upper + NORM_STEP\n",
    "        val += (prob(lower) + prob(upper))/2 * NORM_STEP\n",
    "        cdfMap[(lower+upper)/2] = val\n",
    "    return res, upper\n",
    "    \n",
    "    "
   ]
  },
  {
   "cell_type": "code",
   "execution_count": 61,
   "metadata": {},
   "outputs": [
    {
     "ename": "TypeError",
     "evalue": "g() missing 1 required positional argument: 'config'",
     "output_type": "error",
     "traceback": [
      "\u001b[0;31m---------------------------------------------------------------------------\u001b[0m",
      "\u001b[0;31mTypeError\u001b[0m                                 Traceback (most recent call last)",
      "\u001b[0;32m<ipython-input-61-47e66ce6982d>\u001b[0m in \u001b[0;36m<module>\u001b[0;34m\u001b[0m\n\u001b[0;32m----> 1\u001b[0;31m \u001b[0mprint\u001b[0m\u001b[0;34m(\u001b[0m\u001b[0mg\u001b[0m\u001b[0;34m(\u001b[0m\u001b[0;34m)\u001b[0m\u001b[0;34m)\u001b[0m\u001b[0;34m\u001b[0m\u001b[0;34m\u001b[0m\u001b[0m\n\u001b[0m\u001b[1;32m      2\u001b[0m \u001b[0mprint\u001b[0m\u001b[0;34m(\u001b[0m\u001b[0mg\u001b[0m\u001b[0;34m(\u001b[0m\u001b[0;36m0.01\u001b[0m\u001b[0;34m,\u001b[0m\u001b[0;36m0.000001\u001b[0m\u001b[0;34m,\u001b[0m\u001b[0;36m0.000001\u001b[0m\u001b[0;34m)\u001b[0m\u001b[0;34m)\u001b[0m\u001b[0;34m\u001b[0m\u001b[0;34m\u001b[0m\u001b[0m\n",
      "\u001b[0;31mTypeError\u001b[0m: g() missing 1 required positional argument: 'config'"
     ]
    }
   ],
   "source": [
    "print(g())\n",
    "print(g(0.01,0.000001,0.000001))"
   ]
  },
  {
   "cell_type": "code",
   "execution_count": null,
   "metadata": {},
   "outputs": [],
   "source": [
    "## Inverse CDF of x\n",
    "\n",
    "def F_inv(x, config):\n",
    "    NORM_STEP = config[NORM_STEP]\n",
    "    NORM_THRESHOLD = config[NORM_THRESHOLD]\n",
    "    initial = config[initial]\n",
    "    find = NORM_STEP*int(x/NORM_STEP) + NORM_STEP/2.0\n",
    "    return cdfMap[find]\n",
    "    \n",
    "    '''\n",
    "    if x > 1:\n",
    "        return math.inf\n",
    "    \n",
    "    ## Initializing lower and upper bounds\n",
    "    lower = initial\n",
    "    upper = initial + NORM_STEP\n",
    "    \n",
    "    ## Calling normalizing constant\n",
    "    scal = g(NORM_STEP, NORM_THRESHOLD, initial)[0]\n",
    "    prob = lambda x: probability(x)\n",
    "    res = (prob(lower) + prob(upper))/2 * NORM_STEP\n",
    "    \n",
    "    ## While we're less than the normalizing constant times x, increment the result\n",
    "    while res < x*scal:\n",
    "        lower = lower + NORM_STEP\n",
    "        upper = upper + NORM_STEP\n",
    "        res += (prob(lower) + prob(upper))/2 * NORM_STEP\n",
    "        \n",
    "    return upper\n",
    "    '''\n",
    "    "
   ]
  },
  {
   "cell_type": "code",
   "execution_count": null,
   "metadata": {},
   "outputs": [],
   "source": [
    "F_inv(0.2)"
   ]
  },
  {
   "cell_type": "code",
   "execution_count": null,
   "metadata": {
    "scrolled": true
   },
   "outputs": [],
   "source": [
    "## Plotting optimized probability\n",
    "\n",
    "g_val = g()[0]\n",
    "\n",
    "import matplotlib.pyplot as plt\n",
    "a = [(i+0.01)/1000.0 for i in range(5,1000)]\n",
    "b = [probability(j)/g_val for j in a]\n",
    "plt.scatter(a,b)\n",
    "plt.show()"
   ]
  },
  {
   "cell_type": "code",
   "execution_count": null,
   "metadata": {},
   "outputs": [],
   "source": [
    "probability(0.09)"
   ]
  },
  {
   "cell_type": "code",
   "execution_count": null,
   "metadata": {},
   "outputs": [],
   "source": [
    "## Plotting unoptimized probability\n",
    "\n",
    "g_val = g()[0]\n",
    "\n",
    "import matplotlib.pyplot as plt\n",
    "a = [(i+0.01)/1000.0 for i in range(5,1000)]\n",
    "b = [unop_probability(j)*(10**(35)) for j in a]\n",
    "plt.scatter(a,b)"
   ]
  },
  {
   "cell_type": "code",
   "execution_count": null,
   "metadata": {},
   "outputs": [],
   "source": [
    "x = np.random.rand(1000)\n",
    "y = [F_inv(i) for i in x]\n",
    "plt.hist(y)\n",
    "plt.show()"
   ]
  }
 ],
 "metadata": {
  "kernelspec": {
   "display_name": "Python 3",
   "language": "python",
   "name": "python3"
  },
  "language_info": {
   "codemirror_mode": {
    "name": "ipython",
    "version": 3
   },
   "file_extension": ".py",
   "mimetype": "text/x-python",
   "name": "python",
   "nbconvert_exporter": "python",
   "pygments_lexer": "ipython3",
   "version": "3.7.3"
  }
 },
 "nbformat": 4,
 "nbformat_minor": 2
}
