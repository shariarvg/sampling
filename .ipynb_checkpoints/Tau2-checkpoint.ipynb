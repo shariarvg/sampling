{
 "cells": [
  {
   "cell_type": "code",
   "execution_count": 37,
   "metadata": {},
   "outputs": [],
   "source": [
    "import scipy\n",
    "from scipy.integrate import quad\n",
    "import numpy as np\n",
    "from numpy.linalg import inv, eig, qr, det\n",
    "import math\n",
    "import random"
   ]
  },
  {
   "cell_type": "code",
   "execution_count": 235,
   "metadata": {},
   "outputs": [],
   "source": [
    "n = 100\n",
    "p = 10\n",
    "X = np.random.rand(n,p)\n",
    "\n",
    "for count in range(n):\n",
    "    X[0][count]\n",
    "\n",
    "## To-do: Add column of 1's\n",
    "\n",
    "#X = np.matrix('1 2; 2 0; 3 1')\n",
    "\n",
    "L = [[0 for a in range(p)] for b in range(p)]\n",
    "L[0][0]=1\n",
    "\n",
    "for i in range(1,p):\n",
    "    L[i][i] = random.random()\n",
    "    \n",
    "#L = np.matrix('1 0; 0 0.5')\n",
    "    \n",
    "#B = np.random.rand(p)\n",
    "B = [0.01 for count in range(p)]\n",
    "#t_0 = 0.3\n",
    "\n",
    "\n",
    "w = 0\n",
    "y = X @ B + np.random.rand(n)/100\n",
    "#y = np.random.rand(n)\n",
    "\n",
    "#y = np.array([1,0,2])"
   ]
  },
  {
   "cell_type": "code",
   "execution_count": 153,
   "metadata": {},
   "outputs": [],
   "source": [
    "NORM_THRESHOLD = 0.0000001\n",
    "NORM_STEP = 10\n",
    "OUTPUT_THRESHOLD = 0.05"
   ]
  },
  {
   "cell_type": "code",
   "execution_count": 98,
   "metadata": {
    "scrolled": true
   },
   "outputs": [
    {
     "data": {
      "text/plain": [
       "array([0.04818126, 0.04038667, 0.05953326, 0.05528059, 0.02874168,\n",
       "       0.05828576, 0.03217987, 0.06445181, 0.04150787, 0.05134348,\n",
       "       0.04839431, 0.03906655, 0.0424926 , 0.04189599, 0.04092928,\n",
       "       0.05362375, 0.05324963, 0.05051034, 0.04937838, 0.04405205,\n",
       "       0.05008143, 0.0577637 , 0.04334825, 0.04135224, 0.03808494,\n",
       "       0.05588405, 0.05638164, 0.04383718, 0.03999893, 0.05327202,\n",
       "       0.03437638, 0.03242816, 0.07232481, 0.04215122, 0.04870654,\n",
       "       0.06025889, 0.04873527, 0.04578186, 0.04983399, 0.05015374,\n",
       "       0.04259572, 0.04895863, 0.04406433, 0.04695067, 0.04811611,\n",
       "       0.04654266, 0.0444729 , 0.05665159, 0.05308835, 0.04178732,\n",
       "       0.04214733, 0.06449049, 0.05163699, 0.04406892, 0.04405029,\n",
       "       0.04648608, 0.03533913, 0.04884523, 0.05528516, 0.04835469,\n",
       "       0.04624063, 0.03675932, 0.04427703, 0.06118548, 0.04171177,\n",
       "       0.06141129, 0.05568518, 0.05569165, 0.05674726, 0.05065745,\n",
       "       0.04641309, 0.04462992, 0.05793357, 0.05440148, 0.05334625,\n",
       "       0.04514277, 0.04990383, 0.04413545, 0.04846893, 0.05933578,\n",
       "       0.03777365, 0.05668464, 0.03097227, 0.05172558, 0.04355179,\n",
       "       0.03432835, 0.0475431 , 0.05245041, 0.05040055, 0.0332019 ,\n",
       "       0.04282564, 0.045582  , 0.06438779, 0.05228558, 0.05408811,\n",
       "       0.05255641, 0.0520425 , 0.05768102, 0.05234639, 0.05688117])"
      ]
     },
     "execution_count": 98,
     "metadata": {},
     "output_type": "execute_result"
    }
   ],
   "source": [
    "X @ B + np.random.rand(n)/1000"
   ]
  },
  {
   "cell_type": "code",
   "execution_count": 94,
   "metadata": {},
   "outputs": [
    {
     "data": {
      "text/plain": [
       "array([0.77841387, 0.47248795, 0.34638471, 1.02056434, 0.59703892,\n",
       "       0.40228395, 0.27398129, 0.67912473, 0.97913893, 0.07721644,\n",
       "       0.7813586 , 0.30276808, 0.65146013, 0.49248869, 0.54851255,\n",
       "       0.87152935, 0.8371371 , 0.69805224, 1.00611872, 0.43440179,\n",
       "       0.94031043, 0.61833915, 0.83844018, 0.57895961, 0.29071518,\n",
       "       0.7603898 , 0.89543766, 0.93018165, 0.52580121, 0.1844798 ,\n",
       "       0.70126077, 0.2086443 , 0.4624303 , 0.5709279 , 0.98345144,\n",
       "       0.77914284, 0.87455972, 0.93151064, 0.72668958, 0.91054238,\n",
       "       0.7712449 , 0.77360727, 0.21457288, 0.09513738, 0.57769314,\n",
       "       0.20412865, 0.66832062, 0.07533498, 0.76448176, 0.22322664,\n",
       "       0.65337063, 0.6350804 , 0.64505119, 0.75684314, 0.3466826 ,\n",
       "       0.59278419, 0.76477089, 0.56107434, 0.31505649, 0.07052274,\n",
       "       0.82442159, 0.91863661, 0.09330953, 0.15828258, 0.74418018,\n",
       "       0.53252269, 0.85766289, 0.87810837, 0.26363787, 0.05439683,\n",
       "       0.08761297, 0.2525517 , 0.86558469, 0.23838146, 0.33254659,\n",
       "       0.97368499, 0.70292032, 0.67270026, 0.79029767, 1.04601203,\n",
       "       1.02334997, 0.44235436, 0.27447342, 0.52193316, 0.41000424,\n",
       "       0.49199506, 0.47625588, 0.62478719, 0.98079002, 0.70644963,\n",
       "       0.5669803 , 0.59999515, 0.63820198, 0.76138756, 0.44310054,\n",
       "       0.64601678, 0.91951851, 0.61426264, 0.11463563, 0.55269194])"
      ]
     },
     "execution_count": 94,
     "metadata": {},
     "output_type": "execute_result"
    }
   ],
   "source": [
    "y"
   ]
  },
  {
   "cell_type": "code",
   "execution_count": 230,
   "metadata": {},
   "outputs": [],
   "source": [
    "## QR Decomposition of X\n",
    "\n",
    "Q, R = qr(X)\n",
    "#q = (t_0 ** 2) * (Q @ inv(R@R @ L @ L @ R.T) @ Q.T)"
   ]
  },
  {
   "cell_type": "code",
   "execution_count": 231,
   "metadata": {},
   "outputs": [],
   "source": [
    "## Eigendecomposition of R(L^2)R^T\n",
    "\n",
    "D_arr, V = eig(R @ L @ L @ R.T)\n",
    "D = np.diag(D_arr) # Converting eigenvalues into eigenvalue matrix\n",
    "d = 1 # Product of eigenvalues\n",
    "for ele in D_arr:\n",
    "    d = d*ele"
   ]
  },
  {
   "cell_type": "code",
   "execution_count": 232,
   "metadata": {},
   "outputs": [],
   "source": [
    "## Storing important values\n",
    "yTy = y.T @ y\n",
    "yTQQTy = y.T @ Q @ Q.T @ y\n",
    "yTQV = y.T @ Q @ V\n",
    "VTQTy = V.T @ Q.T @ y"
   ]
  },
  {
   "cell_type": "code",
   "execution_count": 192,
   "metadata": {},
   "outputs": [
    {
     "name": "stdout",
     "output_type": "stream",
     "text": [
      "33.862168480999706\n",
      "25.455833046226328\n"
     ]
    }
   ],
   "source": [
    "print(yTy)\n",
    "print(yTQQTy)"
   ]
  },
  {
   "cell_type": "code",
   "execution_count": 233,
   "metadata": {},
   "outputs": [],
   "source": [
    "def probability(tau):\n",
    "    #print(tau)\n",
    "    det = 1\n",
    "    for d_i in D_arr:\n",
    "        det *= (1+(tau**2)*d_i)\n",
    "    #print(det)\n",
    "    #print((yTQV @ inv(D+(1/(tau**2))*np.identity(p)) @ VTQTy)/(tau**2))\n",
    "    mult = yTy - yTQQTy + (yTQV @ inv(D+(1/(tau**2))*np.identity(p)) @ VTQTy)/(tau**2)\n",
    "    #mult = yTy/(tau**2) - (yTV @ inv(D+(1/(tau**2))*np.identity(D.shape[0])) @ VTy)/(tau**4)\n",
    "    #print(mult)\n",
    "    #print((w/2 + mult/2)**(-0.5*(n+w)))\n",
    "    #print(\"-------------------\")\n",
    "    return det**(-0.5) * ((w/2 + mult/2)**(-0.5*(n+w)))*(1/((tau**(-1))*(1+tau**(-2))))\n"
   ]
  },
  {
   "cell_type": "code",
   "execution_count": 211,
   "metadata": {},
   "outputs": [],
   "source": [
    "def unop_probability(tau):\n",
    "    det = 1\n",
    "    for d_i in D_arr:\n",
    "        det *= (1+(tau**2)*d_i)\n",
    "        \n",
    "    #mat = np.identity(n) - (tau**2) * Q@inv(inv(R@L@L@R.T)+(tau**2)*np.identity(p))@Q.T\n",
    "    mat = inv(np.identity(n)+(tau**2)*(X@L@L@X.T))\n",
    "    return det**(-0.5) * ((w/2 + (y.T @ mat @ y)/2)**(-0.5*(n+w)))*(1/((tau**(-1))*(1+tau**(-2))))"
   ]
  },
  {
   "cell_type": "code",
   "execution_count": 128,
   "metadata": {},
   "outputs": [],
   "source": [
    "def g():\n",
    "    res = 0.1\n",
    "    k = 4\n",
    "    prob = lambda x: probability(x)\n",
    "    val = quad(prob, 0.000001, k)[0]\n",
    "    #print(val)\n",
    "    while res == 0 or (abs((val-res)/res) > NORM_THRESHOLD):\n",
    "        k = k + NORM_STEP\n",
    "        res = val\n",
    "        val = quad(prob, 0.000001, k)[0]\n",
    "        #print(t_0+k)\n",
    "        #print(val)\n",
    "        #print('-----')\n",
    "    #print(\"DONE\")\n",
    "    \n",
    "    return res, k"
   ]
  },
  {
   "cell_type": "code",
   "execution_count": 147,
   "metadata": {},
   "outputs": [],
   "source": [
    "def F_inv(x):\n",
    "    bound = 0.01\n",
    "    prob = lambda x: probability(x)\n",
    "    scal = g()[0]\n",
    "    val = quad(prob, 0.000001, bound)[0]/scal\n",
    "    while (abs(val - x) > OUTPUT_THRESHOLD):\n",
    "        bound = bound * x/val\n",
    "        val = quad(prob, 0, bound)[0]/scal\n",
    "    \n",
    "    return bound"
   ]
  },
  {
   "cell_type": "code",
   "execution_count": 234,
   "metadata": {
    "scrolled": true
   },
   "outputs": [
    {
     "data": {
      "text/plain": [
       "<matplotlib.collections.PathCollection at 0x1305925f8>"
      ]
     },
     "execution_count": 234,
     "metadata": {},
     "output_type": "execute_result"
    },
    {
     "data": {
      "image/png": "[encoded data removed]",
      "text/plain": [
       "<Figure size 432x288 with 1 Axes>"
      ]
     },
     "metadata": {
      "needs_background": "light"
     },
     "output_type": "display_data"
    }
   ],
   "source": [
    "g_val = 1#g()[0]\n",
    "\n",
    "import matplotlib.pyplot as plt\n",
    "a = [(i+0.01)/100.0 for i in range(5,5000)]\n",
    "b = [probability(j)*(10**(35)) for j in a]\n",
    "plt.scatter(a,b)"
   ]
  },
  {
   "cell_type": "code",
   "execution_count": 212,
   "metadata": {},
   "outputs": [
    {
     "data": {
      "text/plain": [
       "0.0"
      ]
     },
     "execution_count": 212,
     "metadata": {},
     "output_type": "execute_result"
    }
   ],
   "source": [
    "probability(1)"
   ]
  },
  {
   "cell_type": "code",
   "execution_count": 197,
   "metadata": {},
   "outputs": [
    {
     "data": {
      "text/plain": [
       "<matplotlib.collections.PathCollection at 0x12f499208>"
      ]
     },
     "execution_count": 197,
     "metadata": {},
     "output_type": "execute_result"
    },
    {
     "data": {
      "image/png": "[encoded data removed]",
      "text/plain": [
       "<Figure size 432x288 with 1 Axes>"
      ]
     },
     "metadata": {
      "needs_background": "light"
     },
     "output_type": "display_data"
    }
   ],
   "source": [
    "g_val = 1#g()[0]\n",
    "\n",
    "import matplotlib.pyplot as plt\n",
    "a = [(i+0.01)/100.0 for i in range(5,500)]\n",
    "b = [unop_probability(j)*(10**(35)) for j in a]\n",
    "plt.scatter(a,b)"
   ]
  }
 ],
 "metadata": {
  "kernelspec": {
   "display_name": "Python 3",
   "language": "python",
   "name": "python3"
  },
  "language_info": {
   "codemirror_mode": {
    "name": "ipython",
    "version": 3
   },
   "file_extension": ".py",
   "mimetype": "text/x-python",
   "name": "python",
   "nbconvert_exporter": "python",
   "pygments_lexer": "ipython3",
   "version": "3.7.3"
  }
 },
 "nbformat": 4,
 "nbformat_minor": 2
}
