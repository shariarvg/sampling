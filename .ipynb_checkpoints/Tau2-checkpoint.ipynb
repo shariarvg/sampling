{
 "cells": [
  {
   "cell_type": "code",
   "execution_count": 2,
   "metadata": {},
   "outputs": [],
   "source": [
    "import scipy\n",
    "from scipy.integrate import quad\n",
    "import numpy as np\n",
    "from numpy.linalg import inv, eig, qr, det\n",
    "import math\n",
    "import random"
   ]
  },
  {
   "cell_type": "code",
   "execution_count": 3,
   "metadata": {},
   "outputs": [],
   "source": [
    "n = 100\n",
    "p = 10\n",
    "\n",
    "X = np.random.rand(n,p)\n",
    "\n",
    "for count in range(n):\n",
    "    X[count][0] = 1\n",
    "\n",
    "L = [[0 for a in range(p)] for b in range(p)]\n",
    "L[0][0]=1\n",
    "\n",
    "for i in range(1,p):\n",
    "    L[i][i] = 1 #random.random()\n",
    "    \n",
    "#L = np.matrix('1 0; 0 0.5')\n",
    "    \n",
    "#B = np.random.rand(p)\n",
    "B = [0.01 for count in range(p)]\n",
    "#t_0 = 0.3\n",
    "\n",
    "\n",
    "w = 5\n",
    "y = X @ B + np.random.rand(n)/1000\n",
    "#y = np.random.rand(n)\n",
    "\n",
    "#y = np.array([1,0,2])"
   ]
  },
  {
   "cell_type": "code",
   "execution_count": 6,
   "metadata": {},
   "outputs": [],
   "source": [
    "## QR Decomposition of X\n",
    "\n",
    "Q, R = qr(X)\n",
    "#q = (t_0 ** 2) * (Q @ inv(R@R @ L @ L @ R.T) @ Q.T)"
   ]
  },
  {
   "cell_type": "code",
   "execution_count": 7,
   "metadata": {},
   "outputs": [],
   "source": [
    "## Eigendecomposition of R(L^2)R^T\n",
    "\n",
    "D_arr, V = eig(R @ L @ L @ R.T)\n",
    "D = np.diag(D_arr) # Converting eigenvalues into eigenvalue matrix\n",
    "d = 1 # Product of eigenvalues\n",
    "for ele in D_arr:\n",
    "    d = d*ele"
   ]
  },
  {
   "cell_type": "code",
   "execution_count": 8,
   "metadata": {},
   "outputs": [],
   "source": [
    "## Storing important values\n",
    "yTy = y.T @ y\n",
    "yTQQTy = y.T @ Q @ Q.T @ y\n",
    "yTQV = y.T @ Q @ V\n",
    "VTQTy = V.T @ Q.T @ y"
   ]
  },
  {
   "cell_type": "code",
   "execution_count": 22,
   "metadata": {},
   "outputs": [],
   "source": [
    "## Optimized probability function\n",
    "\n",
    "def probability(tau):\n",
    "    ## Determinant\n",
    "    det = 1\n",
    "    for d_i in D_arr:\n",
    "        det *= (1+(tau**2)*d_i)\n",
    "\n",
    "    ##Difficult multiplication term\n",
    "    mult = yTy - yTQQTy + (yTQV @ inv(D+(1/(tau**2))*np.identity(p)) @ VTQTy)/(tau**2)\n",
    "\n",
    "    return det**(-0.5) * ((w/2 + mult/2)**(-0.5*(n+w)))*(1/((tau**(-1))*(1+tau**(-2))))\n"
   ]
  },
  {
   "cell_type": "code",
   "execution_count": 11,
   "metadata": {},
   "outputs": [],
   "source": [
    "## Unoptimized probability\n",
    "\n",
    "def unop_probability(tau):\n",
    "    ## Determinant\n",
    "    det = 1\n",
    "    for d_i in D_arr:\n",
    "        det *= (1+(tau**2)*d_i)\n",
    "        \n",
    "    ## REALLY difficult multiplication term\n",
    "    mat = inv(np.identity(n)+(tau**2)*(X@L@L@X.T))\n",
    "    return det**(-0.5) * ((w/2 + (y.T @ mat @ y)/2)**(-0.5*(n+w)))*(1/((tau**(-1))*(1+tau**(-2))))"
   ]
  },
  {
   "cell_type": "code",
   "execution_count": 12,
   "metadata": {},
   "outputs": [],
   "source": [
    "## Approximating the integral of the probability density function over all positive reals\n",
    "\n",
    "def g(NORM_STEP = 0.1, NORM_THRESHOLD = 0.0001, initial = 0.001):\n",
    "    #return quad(probability, 0.0001, 100)\n",
    "    \n",
    "    ## Initialize lower and upper vals\n",
    "    lower = initial\n",
    "    upper = lower + NORM_STEP\n",
    "    prob = lambda x: probability(x)\n",
    "    val = (prob(lower) + prob(upper))/2 * NORM_STEP\n",
    "    \n",
    "    ## Res is ultimately returned\n",
    "    res = 0\n",
    "    \n",
    "    ## While there's a lot of change to res\n",
    "    while res == 0 or (abs((val-res)/res) > NORM_THRESHOLD):\n",
    "        res = val\n",
    "        lower = lower + NORM_STEP\n",
    "        upper = upper + NORM_STEP\n",
    "        val += (prob(lower) + prob(upper))/2 * NORM_STEP\n",
    "    return res, upper\n",
    "    \n",
    "    "
   ]
  },
  {
   "cell_type": "code",
   "execution_count": 13,
   "metadata": {},
   "outputs": [
    {
     "name": "stdout",
     "output_type": "stream",
     "text": [
      "(1.90953876073736e-25, 1.0910000000000006)\n",
      "(1.915446706458463e-25, 1.6010000000000004)\n",
      "(1.9124178642683206e-25, 1.491000000000001)\n",
      "(1.9157741142656575e-25, 2.101000000000001)\n"
     ]
    }
   ],
   "source": [
    "print(g(0.01, 0.0001))\n",
    "print(g(0.1, 0.0001))\n",
    "print(g(0.01, 0.00001))\n",
    "print(g(0.1, 0.00001))"
   ]
  },
  {
   "cell_type": "code",
   "execution_count": 16,
   "metadata": {},
   "outputs": [],
   "source": [
    "## Inverse CDF of x\n",
    "\n",
    "def F_inv(x, NORM_STEP = 0.001, NORM_THRESHOLD = 0.0001, initial = 0.001):\n",
    "    if x > 1:\n",
    "        return math.inf\n",
    "    \n",
    "    ## Initializing lower and upper bounds\n",
    "    lower = initial\n",
    "    upper = initial + NORM_STEP\n",
    "    \n",
    "    ## Calling normalizing constant\n",
    "    scal = g(NORM_STEP, NORM_THRESHOLD, initial)[0]\n",
    "    prob = lambda x: probability(x)\n",
    "    res = (prob(lower) + prob(upper))/2 * NORM_STEP\n",
    "    \n",
    "    ## While we're less than the normalizing constant times x, increment the result\n",
    "    while res < x*scal:\n",
    "        lower = lower + NORM_STEP\n",
    "        upper = upper + NORM_STEP\n",
    "        res += (prob(lower) + prob(upper))/2 * NORM_STEP\n",
    "        \n",
    "    return upper\n",
    "    '''\n",
    "    bound = 0.01\n",
    "    prob = lambda x: probability(x)\n",
    "    scal = g()[0]\n",
    "    val = quad(prob, 0.000001, bound)[0]/scal\n",
    "    print(bound)\n",
    "    print(val)\n",
    "    print(\"------------------\")\n",
    "    while (abs(val - x) > OUTPUT_THRESHOLD):\n",
    "        bound = bound * x/val\n",
    "        val = quad(prob, 0, bound)[0]/scal\n",
    "        print(bound)\n",
    "        print(val)\n",
    "        print(\"--------------\")\n",
    "    \n",
    "    return bound\n",
    "    '''\n",
    "    "
   ]
  },
  {
   "cell_type": "code",
   "execution_count": 18,
   "metadata": {},
   "outputs": [
    {
     "data": {
      "text/plain": [
       "0.17900000000000013"
      ]
     },
     "execution_count": 18,
     "metadata": {},
     "output_type": "execute_result"
    }
   ],
   "source": [
    "F_inv(0.2)"
   ]
  },
  {
   "cell_type": "code",
   "execution_count": 20,
   "metadata": {
    "scrolled": true
   },
   "outputs": [
    {
     "data": {
      "image/png": "[encoded data removed]",
      "text/plain": [
       "<Figure size 432x288 with 1 Axes>"
      ]
     },
     "metadata": {
      "needs_background": "light"
     },
     "output_type": "display_data"
    }
   ],
   "source": [
    "## Plotting optimized probability\n",
    "\n",
    "g_val = g()[0]\n",
    "\n",
    "import matplotlib.pyplot as plt\n",
    "a = [(i+0.01)/1000.0 for i in range(5,1000)]\n",
    "b = [probability(j)/g_val for j in a]\n",
    "plt.scatter(a,b)\n",
    "plt.show()"
   ]
  },
  {
   "cell_type": "code",
   "execution_count": null,
   "metadata": {},
   "outputs": [],
   "source": [
    "probability(0.09)/"
   ]
  },
  {
   "cell_type": "code",
   "execution_count": 21,
   "metadata": {},
   "outputs": [
    {
     "data": {
      "text/plain": [
       "<matplotlib.collections.PathCollection at 0x12ccbde48>"
      ]
     },
     "execution_count": 21,
     "metadata": {},
     "output_type": "execute_result"
    },
    {
     "data": {
      "image/png": "[encoded data removed]",
      "text/plain": [
       "<Figure size 432x288 with 1 Axes>"
      ]
     },
     "metadata": {
      "needs_background": "light"
     },
     "output_type": "display_data"
    }
   ],
   "source": [
    "## Plotting unoptimized probability\n",
    "\n",
    "g_val = g()[0]\n",
    "\n",
    "import matplotlib.pyplot as plt\n",
    "a = [(i+0.01)/1000.0 for i in range(5,1000)]\n",
    "b = [unop_probability(j)*(10**(35)) for j in a]\n",
    "plt.scatter(a,b)"
   ]
  }
 ],
 "metadata": {
  "kernelspec": {
   "display_name": "Python 3",
   "language": "python",
   "name": "python3"
  },
  "language_info": {
   "codemirror_mode": {
    "name": "ipython",
    "version": 3
   },
   "file_extension": ".py",
   "mimetype": "text/x-python",
   "name": "python",
   "nbconvert_exporter": "python",
   "pygments_lexer": "ipython3",
   "version": "3.7.3"
  }
 },
 "nbformat": 4,
 "nbformat_minor": 2
}
